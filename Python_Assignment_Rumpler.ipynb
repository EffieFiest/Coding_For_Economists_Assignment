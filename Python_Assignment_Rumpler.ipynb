{
 "cells": [
  {
   "cell_type": "code",
   "execution_count": 1,
   "metadata": {},
   "outputs": [],
   "source": [
    "# I use the dataset on Japanese City Size provided by Prof. Bekes and Prof. Kezdi. \n",
    "# The dataset was downloaded from https://gabors-data-analysis.com/datasets/. "
   ]
  },
  {
   "cell_type": "code",
   "execution_count": 2,
   "metadata": {},
   "outputs": [],
   "source": [
    "# Import packages and check correct working directories for input and output.\n",
    "import os\n",
    "import pandas as pd\n",
    "import numpy as np"
   ]
  },
  {
   "cell_type": "code",
   "execution_count": 3,
   "metadata": {},
   "outputs": [
    {
     "data": {
      "text/plain": [
       "'/Users/EffieFiest/Documents/CEU/Coding/python'"
      ]
     },
     "execution_count": 3,
     "metadata": {},
     "output_type": "execute_result"
    }
   ],
   "source": [
    "os.getcwd()"
   ]
  },
  {
   "cell_type": "code",
   "execution_count": 4,
   "metadata": {},
   "outputs": [],
   "source": [
    "# Set working directory.\n",
    "os.chdir(\"/Users/EffieFiest/Documents/CEU/Coding/python\")"
   ]
  },
  {
   "cell_type": "code",
   "execution_count": 5,
   "metadata": {},
   "outputs": [
    {
     "data": {
      "text/plain": [
       "'/Users/EffieFiest/Documents/CEU/Coding/python'"
      ]
     },
     "execution_count": 5,
     "metadata": {},
     "output_type": "execute_result"
    }
   ],
   "source": [
    "os.getcwd()"
   ]
  },
  {
   "cell_type": "code",
   "execution_count": 6,
   "metadata": {},
   "outputs": [],
   "source": [
    "# Load data.\n",
    "data = pd.read_csv(os.path.join(\"city-size-japan.csv\"), sep=\",\")"
   ]
  },
  {
   "cell_type": "code",
   "execution_count": 7,
   "metadata": {},
   "outputs": [
    {
     "name": "stdout",
     "output_type": "stream",
     "text": [
      "        Name  pop_1995  pop_2000  pop_2005  pop_2010  pop_2015\n",
      "0       Ageo    206090    212947    220232    223926    225196\n",
      "1     Akashi    287606    293117    291027    290959    293409\n",
      "2      Akita    331597    336646    333109    323600    315814\n",
      "3  Amagasaki    488586    466187    462647    453748    452563\n",
      "4       Anj?    149464    158824    170250    178691    184140\n"
     ]
    }
   ],
   "source": [
    "# Examine data.\n",
    "print(data.head())\n"
   ]
  },
  {
   "cell_type": "code",
   "execution_count": 8,
   "metadata": {},
   "outputs": [],
   "source": [
    "### Assignment 2. Automate repeating tasks using \"for\" loops in Python. ###\n",
    "#     I will convert the data into a tidy format with loops.\n",
    "#     First I create empty dataframe for the tidy data.\n",
    "#     Secondly, I convert the data with a loop\n",
    "data_tidy = np.zeros([data.shape[0] * (data.shape[1] - 1), 3])\n",
    "data_tidy = pd.DataFrame(data_tidy, columns=[\"name\", \"year\", \"pop\"])"
   ]
  },
  {
   "cell_type": "code",
   "execution_count": 9,
   "metadata": {},
   "outputs": [],
   "source": [
    "for i in range(len(data)):\n",
    "    for k in range(data.shape[1] - 1):\n",
    "        data_tidy.iloc[i * (data.shape[1] - 1) + k, 0] = data.iloc[i, 0]\n",
    "        data_tidy.iloc[i * (data.shape[1] - 1) + k, 1] = data.columns[k + 1][-4:]\n",
    "        data_tidy.iloc[i * (data.shape[1] - 1) + k, 2] = data.iloc[i, k + 1]\n"
   ]
  },
  {
   "cell_type": "code",
   "execution_count": 10,
   "metadata": {},
   "outputs": [
    {
     "name": "stdout",
     "output_type": "stream",
     "text": [
      "   name  year       pop\n",
      "0  Ageo  1995  206090.0\n",
      "1  Ageo  2000  212947.0\n",
      "2  Ageo  2005  220232.0\n",
      "3  Ageo  2010  223926.0\n",
      "4  Ageo  2015  225196.0\n"
     ]
    }
   ],
   "source": [
    "print(data_tidy.head())"
   ]
  },
  {
   "cell_type": "code",
   "execution_count": 11,
   "metadata": {},
   "outputs": [],
   "source": [
    "#### Assignment 3. Break up work into smaller components using Python functions. ###\n",
    "# I create a function that produces an empty dataframe with the right\n",
    "# dimension for the tidy data."
   ]
  },
  {
   "cell_type": "code",
   "execution_count": 12,
   "metadata": {},
   "outputs": [],
   "source": [
    "def empty_tidy(dataframe, cols_unchanged):\n",
    "    length = dataframe.shape[0]\n",
    "    width = dataframe.shape[1]\n",
    "    dataframe_tidy = np.zeros([length * (width - cols_unchanged), cols_unchanged + 2])\n",
    "    dataframe_tidy = pd.DataFrame(dataframe_tidy)\n",
    "    return (dataframe_tidy)"
   ]
  },
  {
   "cell_type": "code",
   "execution_count": 13,
   "metadata": {},
   "outputs": [],
   "source": [
    "# I then create a function that converts the original data into tidy format."
   ]
  },
  {
   "cell_type": "code",
   "execution_count": 14,
   "metadata": {},
   "outputs": [],
   "source": [
    "def to_tidy(dataframe, cols_unchanged):\n",
    "    dataframe_tidy = empty_tidy(dataframe, cols_unchanged)\n",
    "    length = dataframe.shape[0]\n",
    "    width = dataframe.shape[1]\n",
    "    jump = width - cols_unchanged\n",
    "    for i in range(len(dataframe)):\n",
    "        for k in range(width - cols_unchanged):\n",
    "            for z in range(cols_unchanged):\n",
    "                dataframe_tidy.iloc[i * jump + k, z] = dataframe.iloc[i, z]\n",
    "            dataframe_tidy.iloc[i * jump + k, cols_unchanged] = dataframe.columns[k + cols_unchanged]\n",
    "            dataframe_tidy.iloc[i * jump + k, cols_unchanged + 1] = data.iloc[i, k + cols_unchanged]\n",
    "    return (dataframe_tidy)"
   ]
  },
  {
   "cell_type": "code",
   "execution_count": 15,
   "metadata": {},
   "outputs": [],
   "source": [
    "# This is a very general function that converts a dataframe into tidy format \n",
    "# with the first \"cols_unchanged\" variables unaffected,\n",
    "# ,and all subsequent variables stacked into a single column.\n",
    "# Finally, we can create a function that takes the specified \n",
    "# column of a dataframe, and converts the last n characters of its strings into an integer."
   ]
  },
  {
   "cell_type": "code",
   "execution_count": 16,
   "metadata": {},
   "outputs": [],
   "source": [
    "def last_characters(dataframe, col_index, n):\n",
    "    for i in range(len(dataframe)):\n",
    "        dataframe.iloc[i, col_index] = int(dataframe.iloc[i, col_index][-n:])\n",
    "    return (dataframe)"
   ]
  },
  {
   "cell_type": "code",
   "execution_count": 17,
   "metadata": {},
   "outputs": [],
   "source": [
    "# Let's try the whole process again, this time simply using the functions."
   ]
  },
  {
   "cell_type": "code",
   "execution_count": 18,
   "metadata": {},
   "outputs": [
    {
     "name": "stdout",
     "output_type": "stream",
     "text": [
      "      0     1         2\n",
      "0  Ageo  1995  206090.0\n",
      "1  Ageo  2000  212947.0\n",
      "2  Ageo  2005  220232.0\n",
      "3  Ageo  2010  223926.0\n",
      "4  Ageo  2015  225196.0\n"
     ]
    }
   ],
   "source": [
    "data_tidy = last_characters(to_tidy(data, 1), 1, 4)\n",
    "print(data_tidy.head())"
   ]
  },
  {
   "cell_type": "code",
   "execution_count": 19,
   "metadata": {},
   "outputs": [],
   "source": [
    "### Assignment 4. Demonstrate Python dictionaries. ###\n",
    "# To rename the columns of the new tidy dataframe, we can simply give \n",
    "# Python a dictionary with the generated column names as keys, and\n",
    "# the new column names as values."
   ]
  },
  {
   "cell_type": "code",
   "execution_count": 20,
   "metadata": {},
   "outputs": [],
   "source": [
    "data_tidy = data_tidy.rename(columns={0: \"name\", 1: \"year\", 2: \"pop\"})"
   ]
  },
  {
   "cell_type": "code",
   "execution_count": 21,
   "metadata": {},
   "outputs": [],
   "source": [
    "data_tidy.to_csv(r'/Users/EffieFiest/Documents/CEU/Coding/python/tidy.csv', index = False)"
   ]
  }
 ],
 "metadata": {
  "kernelspec": {
   "display_name": "Python 3",
   "language": "python",
   "name": "python3"
  },
  "language_info": {
   "codemirror_mode": {
    "name": "ipython",
    "version": 3
   },
   "file_extension": ".py",
   "mimetype": "text/x-python",
   "name": "python",
   "nbconvert_exporter": "python",
   "pygments_lexer": "ipython3",
   "version": "3.8.3"
  }
 },
 "nbformat": 4,
 "nbformat_minor": 4
}
